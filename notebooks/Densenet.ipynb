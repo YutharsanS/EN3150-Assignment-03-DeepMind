{
 "cells": [
  {
   "cell_type": "code",
   "execution_count": null,
   "metadata": {
    "_cell_guid": "b1076dfc-b9ad-4769-8c92-a6c4dae69d19",
    "_uuid": "8f2839f25d086af736a60e9eeb907d3b93b6e0e5",
    "execution": {
     "iopub.execute_input": "2025-10-19T08:03:33.557189Z",
     "iopub.status.busy": "2025-10-19T08:03:33.556598Z",
     "iopub.status.idle": "2025-10-19T08:03:49.446351Z",
     "shell.execute_reply": "2025-10-19T08:03:49.445506Z",
     "shell.execute_reply.started": "2025-10-19T08:03:33.557162Z"
    },
    "trusted": true
   },
   "outputs": [
    {
     "name": "stderr",
     "output_type": "stream",
     "text": [
      "2025-10-19 08:03:35.090841: E external/local_xla/xla/stream_executor/cuda/cuda_fft.cc:477] Unable to register cuFFT factory: Attempting to register factory for plugin cuFFT when one has already been registered\n",
      "WARNING: All log messages before absl::InitializeLog() is called are written to STDERR\n",
      "E0000 00:00:1760861015.289127      37 cuda_dnn.cc:8310] Unable to register cuDNN factory: Attempting to register factory for plugin cuDNN when one has already been registered\n",
      "E0000 00:00:1760861015.344767      37 cuda_blas.cc:1418] Unable to register cuBLAS factory: Attempting to register factory for plugin cuBLAS when one has already been registered\n"
     ]
    }
   ],
   "source": [
    "import tensorflow as tf\n",
    "from tensorflow import keras\n",
    "from keras.layers import Dense, Dropout, Flatten\n",
    "from keras.utils import image_dataset_from_directory\n",
    "from keras.callbacks import EarlyStopping, ReduceLROnPlateau\n",
    "from keras.applications import DenseNet121\n",
    "from keras.optimizers import Adam\n",
    "\n",
    "import cv2 as cv\n",
    "from sklearn.model_selection import train_test_split\n",
    "from sklearn.metrics import confusion_matrix, f1_score\n",
    "import numpy as np\n",
    "import matplotlib.pyplot as plt\n",
    "import os\n",
    "\n",
    "%matplotlib inline"
   ]
  },
  {
   "cell_type": "code",
   "execution_count": 3,
   "metadata": {
    "execution": {
     "iopub.execute_input": "2025-10-19T08:13:56.163659Z",
     "iopub.status.busy": "2025-10-19T08:13:56.163272Z",
     "iopub.status.idle": "2025-10-19T08:13:58.955091Z",
     "shell.execute_reply": "2025-10-19T08:13:58.954281Z",
     "shell.execute_reply.started": "2025-10-19T08:13:56.163632Z"
    },
    "trusted": true
   },
   "outputs": [
    {
     "name": "stdout",
     "output_type": "stream",
     "text": [
      "Found 4752 files belonging to 9 classes.\n"
     ]
    }
   ],
   "source": [
    "data_dir = \"/kaggle/input/realwaste/realwaste-main/RealWaste\"\n",
    "img_size = (224, 224)\n",
    "batch_size = 32\n",
    "\n",
    "# Create full dataset\n",
    "dataset = tf.keras.utils.image_dataset_from_directory(\n",
    "    data_dir,\n",
    "    image_size=img_size,\n",
    "    batch_size=batch_size,\n",
    "    shuffle=True,\n",
    "    seed=123\n",
    ")\n",
    "\n",
    "# Calculate splits\n",
    "dataset_size = len(dataset)\n",
    "train_size = int(0.7 * dataset_size)\n",
    "val_size = int(0.15 * dataset_size)\n",
    "test_size = dataset_size - train_size - val_size\n",
    "\n",
    "# Step 3 — Split\n",
    "train_ds = dataset.take(train_size)\n",
    "remaining = dataset.skip(train_size)\n",
    "val_ds = remaining.take(val_size)\n",
    "test_ds = remaining.skip(val_size)"
   ]
  },
  {
   "cell_type": "code",
   "execution_count": null,
   "metadata": {
    "trusted": true
   },
   "outputs": [],
   "source": [
    "# Load DenseNet Model\n",
    "\n",
    "base_model = DenseNet121(\n",
    "    include_top=False,\n",
    "    weights='imagenet',\n",
    "    input_shape=(224, 224, 3),\n",
    ")\n",
    "\n",
    "base_model.trainable = False # Freeze early layers"
   ]
  },
  {
   "cell_type": "code",
   "execution_count": null,
   "metadata": {},
   "outputs": [],
   "source": [
    "# Dense base model output\n",
    "inputs = base_model.output\n",
    "\n",
    "# Custom classification layer\n",
    "x = Flatten()(inputs)\n",
    "x = Dense(512, activation='relu')(x)\n",
    "x = Dense(9, activation='softmax')(x)\n",
    "\n",
    "# Define full model\n",
    "dense_model = tf.keras.Model(inputs=base_model.input, outputs=x)"
   ]
  },
  {
   "cell_type": "code",
   "execution_count": null,
   "metadata": {},
   "outputs": [],
   "source": [
    "dense_model.summary()"
   ]
  },
  {
   "cell_type": "code",
   "execution_count": null,
   "metadata": {},
   "outputs": [],
   "source": [
    "data_augmentation = tf.keras.Sequential([\n",
    "    tf.keras.Input(shape=(224,224,3)),\n",
    "    tf.keras.layers.Rescaling(1./255),\n",
    "    tf.keras.layers.RandomFlip('horizontal'),\n",
    "    tf.keras.layers.RandomRotation(0.1, fill_mode='nearest'),\n",
    "    tf.keras.layers.RandomTranslation(0.1,0.1,fill_mode='nearest'),\n",
    "    tf.keras.layers.RandomZoom(0.1, fill_mode='nearest'),\n",
    "])"
   ]
  },
  {
   "cell_type": "code",
   "execution_count": null,
   "metadata": {},
   "outputs": [],
   "source": [
    "dense_model_aug = tf.keras.Sequential([\n",
    "    data_augmentation,\n",
    "    dense_model,\n",
    "])"
   ]
  },
  {
   "cell_type": "code",
   "execution_count": null,
   "metadata": {},
   "outputs": [],
   "source": [
    "es=EarlyStopping(\n",
    "    monitor='val_accuracy',\n",
    "    patience=20,\n",
    "    verbose=1,\n",
    "    restore_best_weights=True,\n",
    ")\n",
    "lr=ReduceLROnPlateau(\n",
    "    monitor='val_accuracy',\n",
    "    factor=0.5,\n",
    "    patience=10,\n",
    "    verbose=1,\n",
    "    min_lr=1e-10,\n",
    ")"
   ]
  },
  {
   "cell_type": "code",
   "execution_count": null,
   "metadata": {},
   "outputs": [],
   "source": [
    "dense_model_aug.compile(\n",
    "    loss = 'sparse_categorical_crossentropy',\n",
    "    optimizer = Adam(learning_rate=0.001),\n",
    "    metrics = ['accuracy'],\n",
    ")"
   ]
  },
  {
   "cell_type": "code",
   "execution_count": null,
   "metadata": {},
   "outputs": [],
   "source": [
    "history = dense_model_aug.fit(\n",
    "    train_ds,\n",
    "    epochs = 100,\n",
    "    validation_data = val_ds,\n",
    "    callbacks = [es, lr]\n",
    ")"
   ]
  },
  {
   "cell_type": "code",
   "execution_count": null,
   "metadata": {},
   "outputs": [],
   "source": [
    "# Plot training & validation accuracy, loss values\n",
    "history = dense_model_aug.history.history\n",
    "\n",
    "fig, (ax1, ax2) = plt.subplots(1, 2, figsize=(12, 4))\n",
    "\n",
    "# Plot training & validation accuracy values\n",
    "ax1.plot(history['accuracy'], label='Training Accuracy')\n",
    "ax1.plot(history['val_accuracy'], label='Validation Accuracy')\n",
    "ax1.set_title('Model Accuracy')\n",
    "ax1.set_ylabel('Accuracy')\n",
    "ax1.set_xlabel('Epoch')\n",
    "ax1.legend()\n",
    "\n",
    "# Plot training & validation loss values\n",
    "ax2.plot(history['loss'], label='Training Loss')\n",
    "ax2.plot(history['val_loss'], label='Validation Loss')\n",
    "ax2.set_title('Model Loss')\n",
    "ax2.set_ylabel('Loss')\n",
    "ax2.set_xlabel('Epoch')\n",
    "ax2.legend()\n",
    "\n",
    "plt.savefig('/kaggle/working/accuracy_loss_plot.png', dpi=300, bbox_inches='tight')\n",
    "plt.tight_layout()\n",
    "plt.show()"
   ]
  },
  {
   "cell_type": "code",
   "execution_count": null,
   "metadata": {},
   "outputs": [],
   "source": [
    "# Retrieve best metrics\n",
    "best_train_acc = max(history['accuracy'])\n",
    "best_val_acc = max(history['val_accuracy'])\n",
    "print(f\"Best training accuracy is {(best_train_acc * 100):.2f}%\")\n",
    "print(f\"Best validation accuracy is {(best_val_acc * 100):.2f}%\")"
   ]
  }
 ],
 "metadata": {
  "kaggle": {
   "accelerator": "none",
   "dataSources": [
    {
     "datasetId": 4324996,
     "sourceId": 7432092,
     "sourceType": "datasetVersion"
    }
   ],
   "dockerImageVersionId": 31153,
   "isGpuEnabled": false,
   "isInternetEnabled": true,
   "language": "python",
   "sourceType": "notebook"
  },
  "kernelspec": {
   "display_name": "Python 3",
   "language": "python",
   "name": "python3"
  },
  "language_info": {
   "codemirror_mode": {
    "name": "ipython",
    "version": 3
   },
   "file_extension": ".py",
   "mimetype": "text/x-python",
   "name": "python",
   "nbconvert_exporter": "python",
   "pygments_lexer": "ipython3",
   "version": "3.11.13"
  }
 },
 "nbformat": 4,
 "nbformat_minor": 4
}
