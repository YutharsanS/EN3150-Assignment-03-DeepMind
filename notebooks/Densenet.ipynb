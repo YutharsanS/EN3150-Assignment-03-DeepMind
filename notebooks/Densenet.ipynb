{
 "cells": [
  {
   "cell_type": "code",
   "execution_count": 1,
   "metadata": {
    "_cell_guid": "b1076dfc-b9ad-4769-8c92-a6c4dae69d19",
    "_uuid": "8f2839f25d086af736a60e9eeb907d3b93b6e0e5",
    "execution": {
     "iopub.execute_input": "2025-10-19T08:03:33.557189Z",
     "iopub.status.busy": "2025-10-19T08:03:33.556598Z",
     "iopub.status.idle": "2025-10-19T08:03:49.446351Z",
     "shell.execute_reply": "2025-10-19T08:03:49.445506Z",
     "shell.execute_reply.started": "2025-10-19T08:03:33.557162Z"
    },
    "trusted": true
   },
   "outputs": [
    {
     "name": "stderr",
     "output_type": "stream",
     "text": [
      "2025-10-19 08:03:35.090841: E external/local_xla/xla/stream_executor/cuda/cuda_fft.cc:477] Unable to register cuFFT factory: Attempting to register factory for plugin cuFFT when one has already been registered\n",
      "WARNING: All log messages before absl::InitializeLog() is called are written to STDERR\n",
      "E0000 00:00:1760861015.289127      37 cuda_dnn.cc:8310] Unable to register cuDNN factory: Attempting to register factory for plugin cuDNN when one has already been registered\n",
      "E0000 00:00:1760861015.344767      37 cuda_blas.cc:1418] Unable to register cuBLAS factory: Attempting to register factory for plugin cuBLAS when one has already been registered\n"
     ]
    }
   ],
   "source": [
    "import tensorflow as tf\n",
    "from tensorflow import keras\n",
    "from keras.layers import Dense, Dropout, Flatten\n",
    "from keras.utils import image_dataset_from_directory\n",
    "from keras.callbacks import EarlyStopping, ReduceLROnPlateau\n",
    "from keras.applications import DenseNet121\n",
    "\n",
    "import cv2 as cv\n",
    "from sklearn.model_selection import train_test_split\n",
    "from sklearn.metrics import confusion_matrix, f1_score\n",
    "import numpy as np\n",
    "import matplotlib.pyplot as plt\n",
    "import os\n",
    "\n",
    "%matplotlib inline"
   ]
  },
  {
   "cell_type": "code",
   "execution_count": 3,
   "metadata": {
    "execution": {
     "iopub.execute_input": "2025-10-19T08:13:56.163659Z",
     "iopub.status.busy": "2025-10-19T08:13:56.163272Z",
     "iopub.status.idle": "2025-10-19T08:13:58.955091Z",
     "shell.execute_reply": "2025-10-19T08:13:58.954281Z",
     "shell.execute_reply.started": "2025-10-19T08:13:56.163632Z"
    },
    "trusted": true
   },
   "outputs": [
    {
     "name": "stdout",
     "output_type": "stream",
     "text": [
      "Found 4752 files belonging to 9 classes.\n"
     ]
    }
   ],
   "source": [
    "data_dir = \"/kaggle/input/realwaste/realwaste-main/RealWaste\"\n",
    "img_size = (224, 224)\n",
    "batch_size = 32\n",
    "\n",
    "# Create full dataset\n",
    "dataset = tf.keras.utils.image_dataset_from_directory(\n",
    "    data_dir,\n",
    "    image_size=img_size,\n",
    "    batch_size=batch_size,\n",
    "    shuffle=True,\n",
    "    seed=123\n",
    ")\n",
    "\n",
    "# Calculate splits\n",
    "dataset_size = len(dataset)\n",
    "train_size = int(0.7 * dataset_size)\n",
    "val_size = int(0.15 * dataset_size)\n",
    "test_size = dataset_size - train_size - val_size\n",
    "\n",
    "# Step 3 — Split\n",
    "train_ds = dataset.take(train_size)\n",
    "remaining = dataset.skip(train_size)\n",
    "val_ds = remaining.take(val_size)\n",
    "test_ds = remaining.skip(val_size)"
   ]
  },
  {
   "cell_type": "code",
   "execution_count": null,
   "metadata": {
    "trusted": true
   },
   "outputs": [],
   "source": [
    "# Load DenseNet Model\n",
    "\n",
    "base_model = DenseNet121(\n",
    "    include_top=False,\n",
    "    weights='imagenet',\n",
    "    input_shape=(224, 224, 3),\n",
    ")\n",
    "\n",
    "base_model.trainable = False # Freeze early layers"
   ]
  },
  {
   "cell_type": "code",
   "execution_count": null,
   "metadata": {},
   "outputs": [],
   "source": [
    "# Dense base model output\n",
    "inputs = base_model.output\n",
    "\n",
    "# Custom classification layer\n",
    "x = Flatten()(inputs)\n",
    "x = Dense(512, activation='relu')(x)\n",
    "x = Dense(9, activation='softmax')(x)\n",
    "\n",
    "# Define full model\n",
    "dense_model = tf.keras.Model(inputs=base_model.input, outputs=x)"
   ]
  }
 ],
 "metadata": {
  "kaggle": {
   "accelerator": "none",
   "dataSources": [
    {
     "datasetId": 4324996,
     "sourceId": 7432092,
     "sourceType": "datasetVersion"
    }
   ],
   "dockerImageVersionId": 31153,
   "isGpuEnabled": false,
   "isInternetEnabled": true,
   "language": "python",
   "sourceType": "notebook"
  },
  "kernelspec": {
   "display_name": "tf_gpu",
   "language": "python",
   "name": "python3"
  },
  "language_info": {
   "codemirror_mode": {
    "name": "ipython",
    "version": 3
   },
   "file_extension": ".py",
   "mimetype": "text/x-python",
   "name": "python",
   "nbconvert_exporter": "python",
   "pygments_lexer": "ipython3",
   "version": "3.11.13"
  }
 },
 "nbformat": 4,
 "nbformat_minor": 4
}
